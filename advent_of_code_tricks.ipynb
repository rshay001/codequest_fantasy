{
  "cells": [
    {
      "cell_type": "markdown",
      "id": "f1556eea",
      "metadata": {
        "id": "f1556eea"
      },
      "source": [
        "# 🎄 Advent of Code Tricks — A Beginner’s Guide\n",
        "\n",
        "Welcome to this notebook!  \n",
        "If you’ve ever tried **Advent of Code (AoC)** and felt stuck, this is for you.\n",
        "\n",
        "Each section teaches a common *pattern* that appears in AoC puzzles —  \n",
        "from reading input to parsing data, counting, and pathfinding.\n",
        "\n",
        "👉 Run each code cell with **Shift + Enter** and try modifying it.\n"
      ]
    },
    {
      "cell_type": "markdown",
      "id": "570d5f91",
      "metadata": {
        "id": "570d5f91"
      },
      "source": [
        "## 🧩 1. Reading Input"
      ]
    },
    {
      "cell_type": "code",
      "execution_count": null,
      "id": "e3b2a21a",
      "metadata": {
        "id": "e3b2a21a",
        "outputId": "5ae94a76-f3c9-4930-c129-35d610957060"
      },
      "outputs": [
        {
          "name": "stdout",
          "output_type": "stream",
          "text": [
            "Input length: 7000\n"
          ]
        }
      ],
      "source": [
        "#Method 1: Download and read the file\n",
        "\n",
        "# Download the input file and save it as 'day01_input.txt' in your project folder\n",
        "with open('day01_input.txt', 'r') as file:  #'r' means read-only\n",
        "    input_data = file.read().strip()  # Read all text and remove extra whitespace\n",
        "\n",
        "print(f\"Input length: {len(input_data)}\")  # Optional: check how many characters you have"
      ]
    },
    {
      "cell_type": "code",
      "execution_count": null,
      "id": "fb9ac677",
      "metadata": {
        "id": "fb9ac677"
      },
      "outputs": [],
      "source": [
        "#Method 2: copy and paste the input\n",
        "\n",
        "# Copy the input from the webpage and paste it as a string\n",
        "input_data = \"\"\"((()))(()()()((((()(((())(()(()((((((()(()(((())))((()(((()\"\"\"  # Your input here\n",
        "\n",
        "# Remove any accidental line breaks\n",
        "input_data = input_data.replace('\\n', '').replace(' ', '')\n",
        "print(input_data)"
      ]
    },
    {
      "cell_type": "code",
      "execution_count": null,
      "id": "63922d95",
      "metadata": {
        "id": "63922d95",
        "outputId": "84a18e12-681d-4987-8337-027166674fc1"
      },
      "outputs": [
        {
          "name": "stdout",
          "output_type": "stream",
          "text": [
            "['123', '456', '789']\n"
          ]
        }
      ],
      "source": [
        "example = \"\"\"123\n",
        "456\n",
        "789\n",
        "\"\"\"\n",
        "\n",
        "# Split it into lines:\n",
        "\n",
        "lines = example.strip().split(\"\\n\") #\"\\n\" means -> new line (like enter)\n",
        "print(lines)\n"
      ]
    },
    {
      "cell_type": "markdown",
      "id": "35e45a0e",
      "metadata": {
        "id": "35e45a0e"
      },
      "source": [
        "💡 Tip:\n",
        "- Use `.strip()` to remove extra newlines.\n",
        "- Use `.split(\"\\n\")` to turn text into a list of lines.\n",
        "- Not all texts need either strip() or split(). It depends on what the format is and what you want to achieve.\n"
      ]
    },
    {
      "cell_type": "markdown",
      "id": "0d297b68",
      "metadata": {
        "id": "0d297b68"
      },
      "source": [
        "## 🧮 2. Parsing the Input"
      ]
    },
    {
      "cell_type": "markdown",
      "id": "a28d2237",
      "metadata": {
        "id": "a28d2237"
      },
      "source": [
        "What do you do when you have the inputs? Depending on the needs, you may want to \"parse\" line by line, or character by chararcter, or somewhere in betwee.\n",
        "There are a few way to parse the data."
      ]
    },
    {
      "cell_type": "code",
      "execution_count": null,
      "id": "1bbf46f4",
      "metadata": {
        "id": "1bbf46f4",
        "outputId": "acacccdd-07e2-44f5-c785-05f9d7db65f4"
      },
      "outputs": [
        {
          "name": "stdout",
          "output_type": "stream",
          "text": [
            "each line:  123\n",
            "each line:  456\n",
            "each line:  789\n",
            "\n",
            "\n",
            "each character 7\n",
            "each character 8\n",
            "each character 9\n",
            "\n",
            "\n",
            "each character in nested loop 1 | current line is:  123\n",
            "each character in nested loop 2 | current line is:  123\n",
            "each character in nested loop 3 | current line is:  123\n",
            "each character in nested loop 4 | current line is:  456\n",
            "each character in nested loop 5 | current line is:  456\n",
            "each character in nested loop 6 | current line is:  456\n",
            "each character in nested loop 7 | current line is:  789\n",
            "each character in nested loop 8 | current line is:  789\n",
            "each character in nested loop 9 | current line is:  789\n"
          ]
        }
      ],
      "source": [
        "#looping through each line\n",
        "example = \"\"\"123\n",
        "456\n",
        "789\n",
        "\"\"\"\n",
        "for line in example.strip().split(\"\\n\"):\n",
        "    print(\"each line: \", line)\n",
        "print(\"\\n\")\n",
        "\n",
        "#Continuing the operation above, looping through each character\n",
        "for char in line:\n",
        "    print(\"each character\", char)\n",
        "print(\"\\n\")\n",
        "\n",
        "#Or you can combine the above in one operation:\n",
        "for line in example.strip().split(\"\\n\"):\n",
        "    for char in line:\n",
        "        print(\"each character in nested loop:\", char, \"| current line is: \", line)"
      ]
    },
    {
      "cell_type": "code",
      "execution_count": null,
      "id": "038183ea",
      "metadata": {
        "id": "038183ea",
        "outputId": "7240a16d-7023-4e71-c567-1e10611214f5"
      },
      "outputs": [
        {
          "name": "stdout",
          "output_type": "stream",
          "text": [
            "<class 'str'>\n",
            "[123, 456, 789]\n",
            "<class 'int'>\n",
            "What happens if I just print type(numbers)? What does it mean? <class 'list'>\n"
          ]
        }
      ],
      "source": [
        "#What if the numbers are strings?\n",
        "\n",
        "#how do i know if the numbers-looking-things are numbers or strings for the computer?\n",
        "print(type(lines[0]))\n",
        "\n",
        "numbers = [int(x) for x in lines]\n",
        "print(numbers)\n",
        "print(type(numbers[0]))\n",
        "\n",
        "print(\"What happens if I just print type(numbers)? What does it mean?\", type(numbers))"
      ]
    },
    {
      "cell_type": "code",
      "execution_count": null,
      "id": "5e43475a",
      "metadata": {
        "id": "5e43475a",
        "outputId": "bcc05809-9265-47a1-f496-994441241975"
      },
      "outputs": [
        {
          "name": "stdout",
          "output_type": "stream",
          "text": [
            "123 456 789\n",
            "56088 -333 912\n"
          ]
        }
      ],
      "source": [
        "#assign multiple variables\n",
        "numbers = [int(x) for x in lines]\n",
        "a, b, c = numbers\n",
        "print(a, b, c)\n",
        "\n",
        "#why would you ever do that?\n",
        "print(a*b, b-c, a+c)"
      ]
    },
    {
      "cell_type": "markdown",
      "id": "58ed3818",
      "metadata": {
        "id": "58ed3818"
      },
      "source": [
        "## 🧭 3. Splitting Lines with Data"
      ]
    },
    {
      "cell_type": "code",
      "execution_count": null,
      "id": "6a4cc1c3",
      "metadata": {
        "id": "6a4cc1c3",
        "outputId": "d2c114ff-5d0d-44f7-ef0c-473460319adf"
      },
      "outputs": [
        {
          "name": "stdout",
          "output_type": "stream",
          "text": [
            "[['forward', '3'], ['down', '2'], ['up', '1'], ['forward', '1']]\n",
            "direction is:  forward | amount is:  3\n",
            "direction is:  down | amount is:  2\n",
            "direction is:  up | amount is:  1\n",
            "direction is:  forward | amount is:  1\n"
          ]
        }
      ],
      "source": [
        "data = \"\"\"forward 3\n",
        "down 2\n",
        "up 1\n",
        "forward 1\n",
        "\"\"\"\n",
        "\n",
        "pairs = [line.split() for line in data.strip().split(\"\\n\")]\n",
        "print(pairs)\n",
        "\n",
        "for direction, amount in pairs:\n",
        "    print(\"direction is: \",direction, \"| amount is: \",int(amount))"
      ]
    },
    {
      "cell_type": "markdown",
      "id": "3afef314",
      "metadata": {
        "id": "3afef314"
      },
      "source": [
        "💡 Tip: Use `.split()` to break a line by spaces. If you expect 2 items each time, unpack them."
      ]
    },
    {
      "cell_type": "markdown",
      "id": "810c04fb",
      "metadata": {
        "id": "810c04fb"
      },
      "source": [
        "## 🧰 4. Lists vs Sets vs Dictionaries - Choosing the Right Tool"
      ]
    },
    {
      "cell_type": "markdown",
      "id": "8ff8c3c3",
      "metadata": {
        "id": "8ff8c3c3"
      },
      "source": [
        "**📝 Lists** - when you need order and duplicates"
      ]
    },
    {
      "cell_type": "code",
      "execution_count": null,
      "id": "1f826b2f",
      "metadata": {
        "id": "1f826b2f",
        "outputId": "51e2c3f5-5f06-4c6d-8705-be19ebce4e20"
      },
      "outputs": [
        {
          "name": "stdout",
          "output_type": "stream",
          "text": [
            "First item: 1\n",
            "All items: [1, 2, 2, 3, 1]\n"
          ]
        }
      ],
      "source": [
        "# Use lists when:\n",
        "# - Order matters\n",
        "# - You need duplicates\n",
        "# - You want to access by index\n",
        "\n",
        "numbers = [1, 2, 2, 3, 1]  # Duplicates allowed\n",
        "print(f\"First item: {numbers[0]}\")\n",
        "print(f\"All items: {numbers}\")\n",
        "\n",
        "# Perfect for: sequences, coordinates, parsing input line by line\n",
        "moves = [\"up\", \"right\", \"down\", \"right\"]\n"
      ]
    },
    {
      "cell_type": "markdown",
      "id": "7ca27ade",
      "metadata": {
        "id": "7ca27ade"
      },
      "source": [
        "💡 Tip: List comprehensions are super handy for one-line transformations."
      ]
    },
    {
      "cell_type": "markdown",
      "id": "61aa101e",
      "metadata": {
        "id": "61aa101e"
      },
      "source": [
        "🔍 **Sets** — When you need fast \"have I seen this before?"
      ]
    },
    {
      "cell_type": "code",
      "execution_count": null,
      "id": "bb09743e",
      "metadata": {
        "id": "bb09743e",
        "outputId": "5410478a-8ede-49be-87d8-7ad19087b207"
      },
      "outputs": [
        {
          "name": "stdout",
          "output_type": "stream",
          "text": [
            "Duplicate found: 2\n",
            "Duplicate found: 1\n"
          ]
        }
      ],
      "source": [
        "# Use sets when:\n",
        "# - You need to check membership quickly\n",
        "# - Duplicates don't matter\n",
        "# - Order doesn't matter\n",
        "\n",
        "seen = set()\n",
        "numbers = [1, 2, 2, 3, 1]\n",
        "\n",
        "for num in numbers:\n",
        "    if num in seen:\n",
        "        print(f\"Duplicate found: {num}\")\n",
        "    seen.add(num)\n",
        "\n",
        "# Perfect for: tracking visited positions, eliminating duplicates\n",
        "visited_coords = {(0,0), (1,0), (1,1)}\n"
      ]
    },
    {
      "cell_type": "markdown",
      "id": "56ec23ee",
      "metadata": {
        "id": "56ec23ee"
      },
      "source": [
        "🗝️ **Dictionaries** — When you need to map keys to values"
      ]
    },
    {
      "cell_type": "code",
      "execution_count": null,
      "id": "bf79e02a",
      "metadata": {
        "id": "bf79e02a",
        "outputId": "f8f3421d-f189-4fcd-a352-09bef4e7e792"
      },
      "outputs": [
        {
          "name": "stdout",
          "output_type": "stream",
          "text": [
            "(0, 1)\n",
            "Alice's score: 95\n"
          ]
        }
      ],
      "source": [
        "# Use dictionaries when:\n",
        "# - You want to store key: value pairs\n",
        "# - You need fast key-based lookup\n",
        "# - You want to map one thing to another\n",
        "\n",
        "# Basic key-value mapping\n",
        "directions = {\n",
        "    \"U\": (0, 1),\n",
        "    \"D\": (0, -1),\n",
        "    \"L\": (-1, 0),\n",
        "    \"R\": (1, 0)\n",
        "}\n",
        "\n",
        "print(directions[\"U\"])  # (0, 1)\n",
        "\n",
        "# Another example: mapping names to scores\n",
        "scores = {\"Alice\": 95, \"Bob\": 87, \"Charlie\": 92}\n",
        "print(f\"Alice's score: {scores['Alice']}\")\n",
        "\n",
        "# Perfect for: lookups, translations, coordinate mappings\n"
      ]
    },
    {
      "cell_type": "markdown",
      "id": "6c169ec2",
      "metadata": {
        "id": "6c169ec2"
      },
      "source": [
        "## 🧠 5. Summing, Counting, and Comparing"
      ]
    },
    {
      "cell_type": "code",
      "execution_count": null,
      "id": "d4b4d628",
      "metadata": {
        "id": "d4b4d628"
      },
      "outputs": [],
      "source": [
        "nums = [199, 200, 208, 210, 200, 207, 240, 269]\n",
        "count = sum(1 for i in range(1, len(nums)) if nums[i] > nums[i-1])\n",
        "print(count)"
      ]
    },
    {
      "cell_type": "markdown",
      "id": "804739aa",
      "metadata": {
        "id": "804739aa"
      },
      "source": [
        "💡 Tip: `Counter` is great for quick frequency counting."
      ]
    },
    {
      "cell_type": "code",
      "execution_count": null,
      "id": "efc36112",
      "metadata": {
        "id": "efc36112"
      },
      "outputs": [],
      "source": [
        "from collections import Counter\n",
        "\n",
        "# Method 1: Using Counter (easiest)\n",
        "letters = \"abbcccdddde\"\n",
        "counts = Counter(letters)\n",
        "print(counts)  # Counter({'d': 4, 'c': 3, 'b': 2, 'a': 1, 'e': 1})\n",
        "print(counts.most_common(2))  # [('d', 4), ('c', 3)]\n",
        "\n",
        "# Method 2: Manual counting (when you need more control)\n",
        "char_count = {}\n",
        "for char in letters:\n",
        "    char_count[char] = char_count.get(char, 0) + 1\n",
        "print(char_count)  # {'a': 1, 'b': 2, 'c': 3, 'd': 4, 'e': 1}\n",
        "\n",
        "# Perfect for: counting occurrences, finding most/least common items"
      ]
    },
    {
      "cell_type": "markdown",
      "id": "084985af",
      "metadata": {
        "id": "084985af"
      },
      "source": [
        "## 🧩 6. Sets for Fast Membership Checking"
      ]
    },
    {
      "cell_type": "code",
      "execution_count": null,
      "id": "0e59adca",
      "metadata": {
        "id": "0e59adca",
        "outputId": "9f4c0f36-c84d-4cd4-c1c8-5423de2db2b0"
      },
      "outputs": [
        {
          "name": "stdout",
          "output_type": "stream",
          "text": [
            "Found: True\n"
          ]
        }
      ],
      "source": [
        "nums = [1, 2, 3, 10, 11, 12]\n",
        "target = 10\n",
        "seen = set(nums)\n",
        "print(\"Found:\", target in seen)"
      ]
    },
    {
      "cell_type": "markdown",
      "id": "e2bb8239",
      "metadata": {
        "id": "e2bb8239"
      },
      "source": [
        "💡 Tip: Sets are great when you need to check if something “has been seen before.”\n",
        "Sets cannot have repeating members. For example, a list ['a', 'p', 'p', 'l', 'e'] will be come ('a','p','l','e')"
      ]
    },
    {
      "cell_type": "markdown",
      "id": "2098cb62",
      "metadata": {
        "id": "2098cb62"
      },
      "source": [
        "## 🧶 7. Coordinate Grids (2D Problems)"
      ]
    },
    {
      "cell_type": "code",
      "execution_count": null,
      "id": "1acf276a",
      "metadata": {
        "id": "1acf276a"
      },
      "outputs": [],
      "source": [
        "moves = [\"up\", \"up\", \"right\", \"down\"]\n",
        "x, y = 0, 0\n",
        "\n",
        "for move in moves:\n",
        "    if move == \"up\":\n",
        "        y += 1\n",
        "    elif move == \"down\":\n",
        "        y -= 1\n",
        "    elif move == \"left\":\n",
        "        x -= 1\n",
        "    elif move == \"right\":\n",
        "        x += 1\n",
        "\n",
        "print(\"Final position:\", (x, y))"
      ]
    },
    {
      "cell_type": "markdown",
      "id": "d66a5f54",
      "metadata": {
        "id": "d66a5f54"
      },
      "source": [
        "💡 Tip: Use `(x, y)` tuples for coordinates."
      ]
    },
    {
      "cell_type": "markdown",
      "id": "e290981c",
      "metadata": {
        "id": "e290981c"
      },
      "source": [
        "## ⚙️ 8. Enumerate — Index + Value Together"
      ]
    },
    {
      "cell_type": "code",
      "execution_count": null,
      "id": "337fffce",
      "metadata": {
        "id": "337fffce",
        "outputId": "fce084d3-2943-4474-c2bb-bf27807d817c"
      },
      "outputs": [
        {
          "name": "stdout",
          "output_type": "stream",
          "text": [
            "0 10\n",
            "1 20\n",
            "2 30\n"
          ]
        }
      ],
      "source": [
        "nums = [10, 20, 30]\n",
        "for i, n in enumerate(nums):\n",
        "    print(i, n)"
      ]
    },
    {
      "cell_type": "markdown",
      "id": "552b3d50",
      "metadata": {
        "id": "552b3d50"
      },
      "source": [
        "💡 Tip: `enumerate()` gives both the index and value — great for comparisons or offsets."
      ]
    },
    {
      "cell_type": "markdown",
      "id": "e292a102",
      "metadata": {
        "id": "e292a102"
      },
      "source": [
        "## 🧩 9. Parsing Digits or Characters"
      ]
    },
    {
      "cell_type": "code",
      "execution_count": null,
      "id": "b4524f3d",
      "metadata": {
        "id": "b4524f3d"
      },
      "outputs": [],
      "source": [
        "line = \"A1B2C3\"\n",
        "digits = [int(ch) for ch in line if ch.isdigit()]\n",
        "print(digits)"
      ]
    },
    {
      "cell_type": "markdown",
      "id": "9c26fccf",
      "metadata": {
        "id": "9c26fccf"
      },
      "source": [
        "💡 Tip: `.isdigit()` and `.isalpha()` help separate numbers and letters."
      ]
    },
    {
      "cell_type": "markdown",
      "id": "554fd55d",
      "metadata": {
        "id": "554fd55d"
      },
      "source": [
        "## 🔁 10. Sliding Windows"
      ]
    },
    {
      "cell_type": "code",
      "execution_count": null,
      "id": "8105fc5a",
      "metadata": {
        "id": "8105fc5a"
      },
      "outputs": [],
      "source": [
        "nums = [1, 2, 3, 4, 5]\n",
        "windows = [sum(nums[i:i+3]) for i in range(len(nums)-2)]\n",
        "print(windows)"
      ]
    },
    {
      "cell_type": "markdown",
      "id": "a47a2287",
      "metadata": {
        "id": "a47a2287"
      },
      "source": [
        "💡 Tip: This pattern shows up *a lot* (e.g., 'sum of every 3 consecutive numbers')."
      ]
    },
    {
      "cell_type": "markdown",
      "id": "3ba72170",
      "metadata": {
        "id": "3ba72170"
      },
      "source": [
        "## 🧩 11. Putting It All Together — Mini Challenge"
      ]
    },
    {
      "cell_type": "code",
      "execution_count": null,
      "id": "0dde3c33",
      "metadata": {
        "id": "0dde3c33"
      },
      "outputs": [],
      "source": [
        "nums = [199, 200, 208, 210, 200, 207, 240, 269]\n",
        "windows = [sum(nums[i:i+3]) for i in range(len(nums)-2)]\n",
        "count = sum(1 for i in range(1, len(windows)) if windows[i] > windows[i-1])\n",
        "print(\"Answer:\", count)"
      ]
    },
    {
      "cell_type": "markdown",
      "id": "9db454c9",
      "metadata": {
        "id": "9db454c9"
      },
      "source": [
        "## 🏁 Conclusion\n",
        "\n",
        "You now know the most common Advent of Code tricks:\n",
        "✅ Reading input  \n",
        "✅ Splitting and parsing  \n",
        "✅ Counting and comparing  \n",
        "✅ Using dictionaries, sets, and loops  \n",
        "✅ Managing coordinates  \n",
        "✅ Sliding windows  \n",
        "\n",
        "Once you master these, you can solve *most of the first 10 days* of AoC puzzles easily!\n"
      ]
    }
  ],
  "metadata": {
    "kernelspec": {
      "display_name": ".venv",
      "language": "python",
      "name": "python3"
    },
    "language_info": {
      "codemirror_mode": {
        "name": "ipython",
        "version": 3
      },
      "file_extension": ".py",
      "mimetype": "text/x-python",
      "name": "python",
      "nbconvert_exporter": "python",
      "pygments_lexer": "ipython3",
      "version": "3.11.13"
    },
    "colab": {
      "provenance": []
    }
  },
  "nbformat": 4,
  "nbformat_minor": 5
}